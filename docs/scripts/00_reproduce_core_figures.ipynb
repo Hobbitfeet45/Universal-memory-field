{
 "cells": [
  {
   "cell_type": "markdown",
   "metadata": {},
   "source": [
    "# Reproduce core figures\n",
    "\n",
    "This notebook demonstrates how to reconstruct the piecewise power‑law fit for the damping ratio and reproduce the corresponding figure.  It uses approximate Particle Data Group masses and widths for a set of reference particles.  Feel free to edit the data frame or the break mass to explore alternative fits."
   ]
  },
  {
   "cell_type": "code",
   "metadata": {},
   "execution_count": null,
   "source": [
    "import numpy as np\n",
    "import pandas as pd\n",
    "import matplotlib.pyplot as plt\n",
    "from scipy.stats import linregress\n",
    "\n",
    "# Define approximate masses (GeV) and widths (GeV) for the reference particles.\n",
    "data = pd.DataFrame({\n",
    "    'particle': ['pi','K','p','tau','J/psi','Upsilon(1S)','W','Z','H','t'],\n",
    "    'mass': [0.1396, 0.4937, 0.9383, 1.77686, 3.0969, 9.4603, 80.379, 91.1876, 125.25, 172.76],\n",
    "    # Widths for pi and p are extremely small; we set the proton width to 1e-12 GeV to avoid zeros\n",
    "    'width': [2.53e-17, 5.32e-14, 1e-12, 2.27e-12, 9.29e-5, 5.41e-5, 2.085, 2.495, 4.07e-3, 1.41]\n",
    "})\n",
    "\n",
    "# Compute damping ratio Gamma/m\n",
    "data['damping'] = data['width'] / data['mass']\n",
    "\n",
    "# Select a break mass (GeV) separating low and high regimes\n",
    "break_mass = 106.9\n",
    "\n",
    "# Perform linear fits in log–log space for each regime\n",
    "def fit_power_law(x, y):\n",
    "    # Fit log10(y) = slope * log10(x) + intercept\n",
    "    res = linregress(np.log10(x), np.log10(y))\n",
    "    return res.slope, res.intercept\n",
    "\n",
    "masses = data['mass']\n",
    "ratios = data['damping']\n",
    "idx_low = masses <= break_mass\n",
    "idx_high = masses > break_mass\n",
    "\n",
    "slope_low, intercept_low = fit_power_law(masses[idx_low], ratios[idx_low])\n",
    "slope_high, intercept_high = fit_power_law(masses[idx_high], ratios[idx_high])\n",
    "\n",
    "print(f'Low‑mass slope: {slope_low:.3f}, intercept: {intercept_low:.3f}')\n",
    "print(f'High‑mass slope: {slope_high:.3f}, intercept: {intercept_high:.3f}')\n",
    "\n",
    "# Plot damping ratio vs mass with piecewise fits\n",
    "plt.figure(figsize=(6,4))\n",
    "colors = ['blue' if m <= break_mass else 'red' for m in masses]\n",
    "plt.scatter(masses, ratios, c=colors, edgecolor='k')\n",
    "\n",
    "# Define x‑ranges for the fits\n",
    "x1 = np.logspace(np.log10(masses[idx_low].min()), np.log10(break_mass), 100)\n",
    "x2 = np.logspace(np.log10(masses[idx_high].min()), np.log10(masses[idx_high].max()), 100)\n",
    "\n",
    "plt.plot(x1, 10**intercept_low * x1**slope_low, '--', color='blue')\n",
    "plt.plot(x2, 10**intercept_high * x2**slope_high, '--', color='red')\n",
    "\n",
    "plt.axvline(break_mass, color='gray', linestyle=':')\n",
    "plt.xscale('log'); plt.yscale('log')\n",
    "plt.xlabel('mass (GeV)')\n",
    "plt.ylabel('damping ratio (Gamma/m)')\n",
    "plt.title('Damping ratio vs mass with piecewise fits')\n",
    "plt.tight_layout()\n",
    "plt.show()\n"
   ],
   "outputs": []
  }
 ],
 "metadata": {
  "kernelspec": {
   "display_name": "Python 3",
   "language": "python",
   "name": "python3"
  },
  "language_info": {
   "name": "python",
   "version": "3.10"
  }
 },
 "nbformat": 4,
 "nbformat_minor": 5
}